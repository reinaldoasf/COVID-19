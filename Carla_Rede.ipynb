{
  "nbformat": 4,
  "nbformat_minor": 0,
  "metadata": {
    "colab": {
      "name": "Carla_Rede.ipynb",
      "provenance": [],
      "toc_visible": true,
      "include_colab_link": true
    },
    "kernelspec": {
      "name": "python3",
      "display_name": "Python 3"
    },
    "accelerator": "GPU"
  },
  "cells": [
    {
      "cell_type": "markdown",
      "metadata": {
        "id": "view-in-github",
        "colab_type": "text"
      },
      "source": [
        "<a href=\"https://colab.research.google.com/github/reinaldoasf/COVID-19/blob/master/Carla_Rede.ipynb\" target=\"_parent\"><img src=\"https://colab.research.google.com/assets/colab-badge.svg\" alt=\"Open In Colab\"/></a>"
      ]
    },
    {
      "cell_type": "markdown",
      "metadata": {
        "id": "pTF_cauPbzYv",
        "colab_type": "text"
      },
      "source": [
        "# Projeto Final\n",
        "Identificação Raio X de pessoas com Covid-19\n"
      ]
    },
    {
      "cell_type": "markdown",
      "metadata": {
        "id": "xgAwXnKE450x",
        "colab_type": "text"
      },
      "source": [
        "## Separando Conjuntos de Teste e Treino\n",
        "\n",
        "Neste notebook terá o código necessário para ler as imagens do dataset de raios X do pulmão."
      ]
    },
    {
      "cell_type": "code",
      "metadata": {
        "id": "eLRFMoBx4oNb",
        "colab_type": "code",
        "colab": {}
      },
      "source": [
        "import numpy as np\n",
        "import pandas as pd\n",
        "import matplotlib.pyplot as plt\n"
      ],
      "execution_count": null,
      "outputs": []
    },
    {
      "cell_type": "code",
      "metadata": {
        "id": "VbAW7rJ-44eO",
        "colab_type": "code",
        "colab": {
          "base_uri": "https://localhost:8080/",
          "height": 139
        },
        "outputId": "1eb1b170-00ac-430b-827e-fdd9bbc30140"
      },
      "source": [
        "from google.colab import drive\n",
        "drive.mount(\"/gdrive\", force_remount=True)\n",
        "%cd /gdrive/My\\ Drive/Kaggle"
      ],
      "execution_count": null,
      "outputs": [
        {
          "output_type": "stream",
          "text": [
            "Go to this URL in a browser: https://accounts.google.com/o/oauth2/auth?client_id=947318989803-6bn6qk8qdgf4n4g3pfee6491hc0brc4i.apps.googleusercontent.com&redirect_uri=urn%3aietf%3awg%3aoauth%3a2.0%3aoob&response_type=code&scope=email%20https%3a%2f%2fwww.googleapis.com%2fauth%2fdocs.test%20https%3a%2f%2fwww.googleapis.com%2fauth%2fdrive%20https%3a%2f%2fwww.googleapis.com%2fauth%2fdrive.photos.readonly%20https%3a%2f%2fwww.googleapis.com%2fauth%2fpeopleapi.readonly\n",
            "\n",
            "Enter your authorization code:\n",
            "··········\n",
            "Mounted at /gdrive\n",
            "/gdrive/.shortcut-targets-by-id/1YSZg0Et9SrBuc91EBiHqhCI6Q8lKQ6YD/Kaggle\n"
          ],
          "name": "stdout"
        }
      ]
    },
    {
      "cell_type": "code",
      "metadata": {
        "id": "0eV6FgUv9HZI",
        "colab_type": "code",
        "colab": {
          "base_uri": "https://localhost:8080/",
          "height": 68
        },
        "outputId": "ae1fb9b0-f310-479b-b49c-1f636ec1f263"
      },
      "source": [
        "!ls COVID-19/"
      ],
      "execution_count": null,
      "outputs": [
        {
          "output_type": "stream",
          "text": [
            " COVID-19\t\t  NORMAL.metadata.xlsx\t'Viral Pneumonia.matadata.xlsx'\n",
            " COVID-19.metadata.xlsx   README.md.txt\n",
            " NORMAL\t\t\t 'Viral Pneumonia'\n"
          ],
          "name": "stdout"
        }
      ]
    },
    {
      "cell_type": "code",
      "metadata": {
        "id": "t5LcbesD83pH",
        "colab_type": "code",
        "colab": {
          "base_uri": "https://localhost:8080/",
          "height": 71
        },
        "outputId": "650371f7-0680-48bc-9fdb-86ceb2b5a991"
      },
      "source": [
        "\n",
        "\n",
        "import cv2\n",
        "import os, glob\n",
        "from PIL import Image, ImageOps\n",
        "import numpy as np\n",
        "import seaborn as sns\n",
        "from imutils import paths\n",
        "import matplotlib.pyplot as plt\n",
        "import sklearn.metrics as metrics\n",
        "\n",
        "from sklearn.preprocessing import LabelBinarizer\n",
        "from sklearn.model_selection import train_test_split\n",
        "from sklearn.metrics import confusion_matrix, classification_report, accuracy_score, make_scorer\n",
        "import tensorflow as tf\n",
        "from tensorflow.keras.models import Model\n",
        "from tensorflow.keras.models import Sequential\n",
        "from tensorflow.keras.optimizers import Adam\n",
        "from tensorflow.keras.utils import to_categorical\n",
        "from tensorflow.keras.preprocessing.image import ImageDataGenerator\n",
        "from tensorflow.keras.applications import VGG16, ResNet101, Xception\n",
        "from tensorflow.keras import layers\n"
      ],
      "execution_count": null,
      "outputs": [
        {
          "output_type": "stream",
          "text": [
            "/usr/local/lib/python3.6/dist-packages/statsmodels/tools/_testing.py:19: FutureWarning: pandas.util.testing is deprecated. Use the functions in the public API at pandas.testing instead.\n",
            "  import pandas.util.testing as tm\n"
          ],
          "name": "stderr"
        }
      ]
    },
    {
      "cell_type": "code",
      "metadata": {
        "id": "_V-qlXBa84YP",
        "colab_type": "code",
        "colab": {}
      },
      "source": [
        "LR = 0.001\n",
        "EPOCHS = 20\n",
        "BATCH_SIZE = 32\n",
        "COVID_LEN = len(glob.glob(\"COVID-19/COVID-19/*\"))\n",
        "INP_SIZE = (224,224,3)\n",
        "def create_data(dir_name):\n",
        "    temp_data = []\n",
        "    img_list = glob.glob(dir_name + '/*')\n",
        "    for img in img_list:\n",
        "        image = Image.open(img).resize((32, 32))\n",
        "        #Tive que mudar o tamanho pq tava estourando a memória RAM do Colab\n",
        "        image = ImageOps.grayscale(image=image)\n",
        "        image = np.array(image)\n",
        "        temp_data.append(image)\n",
        "    return temp_data\n",
        "\n",
        "data = []\n",
        "labels = []\n",
        "\n",
        "covid_dir = 'COVID-19/COVID-19'\n",
        "normal_dir = 'COVID-19/NORMAL'\n",
        "# pneumonia_dir = 'input/covid19-radiography-database/COVID-19 Radiography Database/Viral Pneumonia'\n",
        "\n",
        "data.extend(create_data(covid_dir))\n",
        "data.extend(create_data(normal_dir))\n",
        "# data.extend(create_data(pneumonia_dir))\n"
      ],
      "execution_count": null,
      "outputs": []
    },
    {
      "cell_type": "code",
      "metadata": {
        "id": "VENZe_JBXiz1",
        "colab_type": "code",
        "colab": {}
      },
      "source": [
        "# data = np.array(data)/255.0\n",
        "labels = [1 if i < COVID_LEN else 0 for i in range(len(data))]\n",
        "# labels_array = np.array(labels)\n",
        "data_array = np.array(data)\n",
        "# print(data_array.shape)\n",
        "# print(labels_array.shape)\n",
        "# print(labels_array)\n",
        "# print(labels)"
      ],
      "execution_count": null,
      "outputs": []
    },
    {
      "cell_type": "code",
      "metadata": {
        "id": "HLEeDCj7Xvw3",
        "colab_type": "code",
        "colab": {
          "base_uri": "https://localhost:8080/",
          "height": 51
        },
        "outputId": "5695eeeb-e8d2-466f-bc09-3004d5e27b76"
      },
      "source": [
        "# Deixar Y com uma dimensão apenas\n",
        "labels_array = np.array(labels)\n",
        "\n",
        "print(labels_array.shape)\n",
        "print(labels_array[0])\n",
        "(x_images_train, x_images_test, y_labels_train, y_labels_test) = train_test_split(\n",
        "    data_array,\n",
        "    labels_array,\n",
        "    test_size=0.30,\n",
        "    stratify=labels_array,\n",
        "    random_state=42\n",
        ")\n",
        "trainAug = ImageDataGenerator(\n",
        "    rotation_range=15,\n",
        "    fill_mode=\"nearest\"\n",
        ")\n"
      ],
      "execution_count": null,
      "outputs": [
        {
          "output_type": "stream",
          "text": [
            "(1560,)\n",
            "1\n"
          ],
          "name": "stdout"
        }
      ]
    },
    {
      "cell_type": "code",
      "metadata": {
        "id": "umbVbc6Io4gI",
        "colab_type": "code",
        "colab": {
          "base_uri": "https://localhost:8080/",
          "height": 34
        },
        "outputId": "4effdd4b-b494-4308-f686-3d401c928b11"
      },
      "source": [
        "len(data)"
      ],
      "execution_count": null,
      "outputs": [
        {
          "output_type": "execute_result",
          "data": {
            "text/plain": [
              "1560"
            ]
          },
          "metadata": {
            "tags": []
          },
          "execution_count": 109
        }
      ]
    },
    {
      "cell_type": "markdown",
      "metadata": {
        "id": "y0nImzeAcL6R",
        "colab_type": "text"
      },
      "source": [
        "## Implementação da rede\n"
      ]
    },
    {
      "cell_type": "code",
      "metadata": {
        "colab_type": "code",
        "id": "L9YmGQBQPrdn",
        "colab": {
          "base_uri": "https://localhost:8080/",
          "height": 323
        },
        "outputId": "386b0bf7-33da-4b72-96d2-5cb6c1d59ada"
      },
      "source": [
        "# models.sequential cria um grupo de camadas onde cada camada possui exatamente\n",
        "# um tensor de entrada e um tensor de saida, agrupa uma pilha linear de camadas\n",
        "model = Sequential()\n",
        "input_shape_test=(32,32,1)\n",
        "model.add(layers.Conv2D(32, (3, 3), input_shape=input_shape_test))\n",
        "model.add(layers.MaxPooling2D(pool_size=(2,2)))\n",
        "model.add(layers.Flatten())\n",
        "model.add(layers.Dense(64, activation='relu'))\n",
        "model.add(layers.Dense(2))\n",
        "model.summary()"
      ],
      "execution_count": null,
      "outputs": [
        {
          "output_type": "stream",
          "text": [
            "Model: \"sequential_6\"\n",
            "_________________________________________________________________\n",
            "Layer (type)                 Output Shape              Param #   \n",
            "=================================================================\n",
            "conv2d_9 (Conv2D)            (None, 30, 30, 32)        320       \n",
            "_________________________________________________________________\n",
            "max_pooling2d_8 (MaxPooling2 (None, 15, 15, 32)        0         \n",
            "_________________________________________________________________\n",
            "flatten_6 (Flatten)          (None, 7200)              0         \n",
            "_________________________________________________________________\n",
            "dense_12 (Dense)             (None, 64)                460864    \n",
            "_________________________________________________________________\n",
            "dense_13 (Dense)             (None, 2)                 130       \n",
            "=================================================================\n",
            "Total params: 461,314\n",
            "Trainable params: 461,314\n",
            "Non-trainable params: 0\n",
            "_________________________________________________________________\n"
          ],
          "name": "stdout"
        }
      ]
    },
    {
      "cell_type": "code",
      "metadata": {
        "id": "KW_I6M9YcpBl",
        "colab_type": "code",
        "colab": {
          "base_uri": "https://localhost:8080/",
          "height": 598
        },
        "outputId": "3c3a290e-ef46-44a3-9184-98a1ef186e4f"
      },
      "source": [
        "model.compile(optimizer='adam',\n",
        "              loss=tf.keras.losses.SparseCategoricalCrossentropy(from_logits=True),\n",
        "              metrics=['accuracy'])\n",
        "\n",
        "# Normalização\n",
        "x_images_train, x_images_test = x_images_train / 255.0, x_images_test / 255.0\n",
        "\n",
        "# Acrescentar 'uma dimensão' no X \n",
        "x_train_reshape = x_images_train\n",
        "x_test_reshape = x_images_test\n",
        "x_train_reshape = x_train_reshape.reshape(list(x_train_reshape.shape) + [1]) \n",
        "x_test_reshape  = x_test_reshape.reshape(list(x_test_reshape.shape) + [1]) \n",
        "# print(y_labels_test)\n",
        "history = model.fit(x_train_reshape, y_labels_train, epochs=10, validation_data=(x_test_reshape, y_labels_test))"
      ],
      "execution_count": null,
      "outputs": [
        {
          "output_type": "stream",
          "text": [
            "[1 1 0 0 0 0 0 0 0 0 0 0 0 0 0 0 0 0 0 0 0 0 0 0 0 0 0 1 0 0 0 1 0 0 0 0 0\n",
            " 0 0 0 0 0 0 0 0 0 0 0 0 0 1 0 0 0 0 0 0 0 0 1 0 0 0 1 0 0 0 0 1 1 1 0 0 0\n",
            " 0 0 0 0 0 0 0 0 0 0 1 0 0 0 0 0 0 0 0 0 0 0 0 0 0 0 0 0 0 0 1 0 0 0 0 0 0\n",
            " 0 0 1 0 0 0 0 0 0 0 0 0 0 0 0 1 0 1 0 1 1 1 0 1 1 0 0 0 0 0 0 0 0 0 0 0 0\n",
            " 1 0 1 0 0 0 0 0 0 0 0 1 0 0 0 0 0 0 0 0 1 0 0 0 0 0 0 0 0 0 0 0 0 0 1 0 0\n",
            " 0 1 0 0 0 0 0 0 0 0 0 0 1 0 0 0 0 0 0 0 0 0 0 0 0 0 0 1 1 0 0 0 0 0 0 0 0\n",
            " 0 0 0 0 0 0 0 0 0 0 0 0 0 0 0 0 0 0 0 0 1 0 0 0 0 0 0 0 0 0 0 1 1 0 0 1 0\n",
            " 0 0 1 0 0 0 0 1 0 0 0 0 0 1 0 0 0 0 0 0 0 0 0 0 0 1 0 0 0 0 0 0 0 0 0 0 0\n",
            " 0 0 0 0 0 1 0 0 0 1 0 1 0 1 0 0 0 0 0 0 0 1 0 0 0 0 0 0 0 0 1 0 0 0 0 0 0\n",
            " 0 0 1 1 0 0 0 0 0 0 0 1 0 0 0 0 0 0 1 0 0 0 0 1 0 0 0 0 1 0 0 0 0 0 0 0 0\n",
            " 0 0 0 0 1 1 0 0 1 0 0 1 0 0 0 1 0 0 0 0 0 0 0 0 0 1 0 0 0 0 0 0 0 0 0 0 0\n",
            " 0 0 0 0 0 0 0 0 0 1 1 0 0 0 0 0 1 0 1 0 0 0 1 0 0 1 1 0 0 0 0 1 1 0 0 0 0\n",
            " 0 0 0 0 0 0 0 0 0 0 0 0 1 1 0 0 0 0 0 0 0 0 0 0]\n",
            "Epoch 1/10\n",
            "35/35 [==============================] - 0s 10ms/step - loss: 0.0437 - accuracy: 0.9808 - val_loss: 0.1022 - val_accuracy: 0.9722\n",
            "Epoch 2/10\n",
            "35/35 [==============================] - 0s 6ms/step - loss: 0.0337 - accuracy: 0.9881 - val_loss: 0.0736 - val_accuracy: 0.9808\n",
            "Epoch 3/10\n",
            "35/35 [==============================] - 0s 6ms/step - loss: 0.0270 - accuracy: 0.9899 - val_loss: 0.0750 - val_accuracy: 0.9744\n",
            "Epoch 4/10\n",
            "35/35 [==============================] - 0s 6ms/step - loss: 0.0217 - accuracy: 0.9927 - val_loss: 0.0581 - val_accuracy: 0.9808\n",
            "Epoch 5/10\n",
            "35/35 [==============================] - 0s 6ms/step - loss: 0.0154 - accuracy: 0.9954 - val_loss: 0.0574 - val_accuracy: 0.9850\n",
            "Epoch 6/10\n",
            "35/35 [==============================] - 0s 6ms/step - loss: 0.0138 - accuracy: 0.9963 - val_loss: 0.0469 - val_accuracy: 0.9829\n",
            "Epoch 7/10\n",
            "35/35 [==============================] - 0s 6ms/step - loss: 0.0090 - accuracy: 0.9991 - val_loss: 0.0457 - val_accuracy: 0.9829\n",
            "Epoch 8/10\n",
            "35/35 [==============================] - 0s 6ms/step - loss: 0.0111 - accuracy: 0.9963 - val_loss: 0.0553 - val_accuracy: 0.9850\n",
            "Epoch 9/10\n",
            "35/35 [==============================] - 0s 6ms/step - loss: 0.0120 - accuracy: 0.9954 - val_loss: 0.0735 - val_accuracy: 0.9786\n",
            "Epoch 10/10\n",
            "35/35 [==============================] - 0s 6ms/step - loss: 0.0077 - accuracy: 0.9982 - val_loss: 0.0398 - val_accuracy: 0.9893\n"
          ],
          "name": "stdout"
        }
      ]
    },
    {
      "cell_type": "markdown",
      "metadata": {
        "id": "NkiEEfO0zU8o",
        "colab_type": "text"
      },
      "source": [
        "## Analise da Rede\n"
      ]
    },
    {
      "cell_type": "code",
      "metadata": {
        "id": "0-veMBZzzsNN",
        "colab_type": "code",
        "colab": {
          "base_uri": "https://localhost:8080/",
          "height": 300
        },
        "outputId": "fed887a9-bb5e-4184-ff7b-a10fe2ed9bfc"
      },
      "source": [
        "plt.plot(history.history['accuracy'], label='accuracy')\n",
        "plt.plot(history.history['val_accuracy'], label = 'val_accuracy')\n",
        "plt.xlabel('Epoch')\n",
        "plt.ylabel('Accuracy')\n",
        "plt.ylim([0.5, 1])\n",
        "plt.legend(loc='lower right')\n",
        "\n",
        "test_loss, test_acc = model.evaluate(x_test_reshape,  y_labels_test, verbose=2)"
      ],
      "execution_count": null,
      "outputs": [
        {
          "output_type": "stream",
          "text": [
            "15/15 - 0s - loss: 0.0398 - accuracy: 0.9893\n"
          ],
          "name": "stdout"
        },
        {
          "output_type": "display_data",
          "data": {
            "image/png": "[encoded data removed]",
            "text/plain": [
              "<Figure size 432x288 with 1 Axes>"
            ]
          },
          "metadata": {
            "tags": [],
            "needs_background": "light"
          }
        }
      ]
    },
    {
      "cell_type": "code",
      "metadata": {
        "id": "7xjGXVnxjg8p",
        "colab_type": "code",
        "colab": {
          "base_uri": "https://localhost:8080/",
          "height": 811
        },
        "outputId": "19197b5b-0e26-41d8-e910-33d8cb59f9db"
      },
      "source": [
        "predict = model.predict_classes(x_test_reshape,1)\n",
        "#predict = np.around(predict)\n",
        "class_names = ['Com covid', 'Sem covid']\n",
        "conf_mat = confusion_matrix(y_labels_test, predict)\n",
        "plt.figure(figsize=(10, 10))\n",
        "ax = sns.heatmap(conf_mat, annot=True, fmt=\".0f\")\n",
        "print(f\"A acurácia do modelo do item a é de {accuracy_score(y_labels_test, predict)}\")\n",
        "print(print(classification_report(y_labels_test, predict, digits=4)))\n",
        "ax.set_title(\"Matriz de confusão modelo CNN\")\n",
        "# plt.xticks(np.arange(2), class_names)\n",
        "# plt.yticks(np.arange(2), class_names)"
      ],
      "execution_count": null,
      "outputs": [
        {
          "output_type": "stream",
          "text": [
            "A acurácia do modelo do item a é de 0.9893162393162394\n",
            "              precision    recall  f1-score   support\n",
            "\n",
            "           0     0.9926    0.9950    0.9938       402\n",
            "           1     0.9692    0.9545    0.9618        66\n",
            "\n",
            "    accuracy                         0.9893       468\n",
            "   macro avg     0.9809    0.9748    0.9778       468\n",
            "weighted avg     0.9893    0.9893    0.9893       468\n",
            "\n",
            "None\n"
          ],
          "name": "stdout"
        },
        {
          "output_type": "execute_result",
          "data": {
            "text/plain": [
              "Text(0.5, 1.0, 'Matriz de confusão modelo CNN')"
            ]
          },
          "metadata": {
            "tags": []
          },
          "execution_count": 61
        },
        {
          "output_type": "display_data",
          "data": {
            "image/png": "[encoded data removed]",
            "text/plain": [
              "<Figure size 720x720 with 2 Axes>"
            ]
          },
          "metadata": {
            "tags": [],
            "needs_background": "light"
          }
        }
      ]
    }
  ]
}