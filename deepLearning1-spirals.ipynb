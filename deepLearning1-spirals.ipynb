{
  "nbformat": 4,
  "nbformat_minor": 0,
  "metadata": {
    "colab": {
      "name": "deepLearning1.ipynb",
      "provenance": [],
      "collapsed_sections": [],
      "include_colab_link": true
    },
    "kernelspec": {
      "name": "python3",
      "display_name": "Python 3"
    }
  },
  "cells": [
    {
      "cell_type": "markdown",
      "metadata": {
        "id": "view-in-github",
        "colab_type": "text"
      },
      "source": [
        "<a href=\"https://colab.research.google.com/github/reinaldoasf/deeplearning/blob/master/deepLearning1-spirals.ipynb\" target=\"_parent\"><img src=\"https://colab.research.google.com/assets/colab-badge.svg\" alt=\"Open In Colab\"/></a>"
      ]
    },
    {
      "cell_type": "markdown",
      "metadata": {
        "id": "_lX1o9TpARVX",
        "colab_type": "text"
      },
      "source": [
        "# **Questao 6**"
      ]
    },
    {
      "cell_type": "code",
      "metadata": {
        "id": "_CYNOG_qmUID",
        "colab_type": "code",
        "colab": {}
      },
      "source": [
        "import numpy as np\n",
        "import pandas as pd\n",
        "import matplotlib.pyplot as plt\n",
        "from keras.models import Sequential\n",
        "from keras.layers import Dense, Dropout, Activation, Flatten\n",
        "from keras.utils import np_utils\n",
        "from sklearn.metrics import confusion_matrix, classification_report, accuracy_score, make_scorer\n",
        "import seaborn as sns\n",
        "import matplotlib.ticker as ticker"
      ],
      "execution_count": null,
      "outputs": []
    },
    {
      "cell_type": "code",
      "metadata": {
        "id": "6Dd1wc7lBbfA",
        "colab_type": "code",
        "colab": {
          "base_uri": "https://localhost:8080/",
          "height": 323
        },
        "outputId": "5a23769f-8c2e-4b88-b247-5b194a91c03d"
      },
      "source": [
        "teta = np.linspace(0,20,num=100);\n",
        "print(teta);\n"
      ],
      "execution_count": null,
      "outputs": [
        {
          "output_type": "stream",
          "text": [
            "[ 0.          0.2020202   0.4040404   0.60606061  0.80808081  1.01010101\n",
            "  1.21212121  1.41414141  1.61616162  1.81818182  2.02020202  2.22222222\n",
            "  2.42424242  2.62626263  2.82828283  3.03030303  3.23232323  3.43434343\n",
            "  3.63636364  3.83838384  4.04040404  4.24242424  4.44444444  4.64646465\n",
            "  4.84848485  5.05050505  5.25252525  5.45454545  5.65656566  5.85858586\n",
            "  6.06060606  6.26262626  6.46464646  6.66666667  6.86868687  7.07070707\n",
            "  7.27272727  7.47474747  7.67676768  7.87878788  8.08080808  8.28282828\n",
            "  8.48484848  8.68686869  8.88888889  9.09090909  9.29292929  9.49494949\n",
            "  9.6969697   9.8989899  10.1010101  10.3030303  10.50505051 10.70707071\n",
            " 10.90909091 11.11111111 11.31313131 11.51515152 11.71717172 11.91919192\n",
            " 12.12121212 12.32323232 12.52525253 12.72727273 12.92929293 13.13131313\n",
            " 13.33333333 13.53535354 13.73737374 13.93939394 14.14141414 14.34343434\n",
            " 14.54545455 14.74747475 14.94949495 15.15151515 15.35353535 15.55555556\n",
            " 15.75757576 15.95959596 16.16161616 16.36363636 16.56565657 16.76767677\n",
            " 16.96969697 17.17171717 17.37373737 17.57575758 17.77777778 17.97979798\n",
            " 18.18181818 18.38383838 18.58585859 18.78787879 18.98989899 19.19191919\n",
            " 19.39393939 19.5959596  19.7979798  20.        ]\n"
          ],
          "name": "stdout"
        }
      ]
    },
    {
      "cell_type": "markdown",
      "metadata": {
        "id": "4g09_7QJI4dK",
        "colab_type": "text"
      },
      "source": [
        " **Training and Test Data**"
      ]
    },
    {
      "cell_type": "code",
      "metadata": {
        "id": "CCQQN81yD7GE",
        "colab_type": "code",
        "colab": {
          "base_uri": "https://localhost:8080/",
          "height": 670
        },
        "outputId": "7f83bf5c-0ebb-446c-9f9c-a79417fdb785"
      },
      "source": [
        "x_esp1 = (teta/4)*np.cos(teta)\n",
        "y_esp1 = (teta/4)*np.sin(teta)\n",
        "x_esp2 = (teta/4+.8)*np.cos(teta)\n",
        "y_esp2 = (teta/4+.8)*np.sin(teta)\n",
        "\n",
        "plt.plot(x_esp1,y_esp1)\n",
        "plt.plot(x_esp2,y_esp2)\n",
        "classe = np.append(np.zeros(100),np.ones(100))\n",
        "\n",
        "#building the dataset:\n",
        "entry = np.array([np.append(x_esp1,x_esp2),np.append(y_esp1,y_esp2)])\n",
        "data = pd.DataFrame({'X':entry[0],'Y':entry[1],'classe':classe})\n",
        "data = data.reindex(np.random.permutation(data.index))\n",
        "\n",
        "#Stablishing input\n",
        "x_train = data[['X','Y']].to_numpy()[:170]\n",
        "x_test = data[['X','Y']].to_numpy()[170:200]\n",
        "\n",
        "#Stablishing output\n",
        "y_train = data['classe'].to_numpy()[:170]\n",
        "y_test = data['classe'].to_numpy()[170:200]\n",
        "data\n",
        "#x_train = data[:, ['X','Y']]\n"
      ],
      "execution_count": null,
      "outputs": [
        {
          "output_type": "execute_result",
          "data": {
            "text/html": [
              "<div>\n",
              "<style scoped>\n",
              "    .dataframe tbody tr th:only-of-type {\n",
              "        vertical-align: middle;\n",
              "    }\n",
              "\n",
              "    .dataframe tbody tr th {\n",
              "        vertical-align: top;\n",
              "    }\n",
              "\n",
              "    .dataframe thead th {\n",
              "        text-align: right;\n",
              "    }\n",
              "</style>\n",
              "<table border=\"1\" class=\"dataframe\">\n",
              "  <thead>\n",
              "    <tr style=\"text-align: right;\">\n",
              "      <th></th>\n",
              "      <th>X</th>\n",
              "      <th>Y</th>\n",
              "      <th>classe</th>\n",
              "    </tr>\n",
              "  </thead>\n",
              "  <tbody>\n",
              "    <tr>\n",
              "      <th>94</th>\n",
              "      <td>4.700798</td>\n",
              "      <td>0.664090</td>\n",
              "      <td>0.0</td>\n",
              "    </tr>\n",
              "    <tr>\n",
              "      <th>26</th>\n",
              "      <td>0.675282</td>\n",
              "      <td>-1.126192</td>\n",
              "      <td>0.0</td>\n",
              "    </tr>\n",
              "    <tr>\n",
              "      <th>32</th>\n",
              "      <td>1.589626</td>\n",
              "      <td>0.291664</td>\n",
              "      <td>0.0</td>\n",
              "    </tr>\n",
              "    <tr>\n",
              "      <th>74</th>\n",
              "      <td>-2.712924</td>\n",
              "      <td>2.570605</td>\n",
              "      <td>0.0</td>\n",
              "    </tr>\n",
              "    <tr>\n",
              "      <th>107</th>\n",
              "      <td>0.179969</td>\n",
              "      <td>1.139410</td>\n",
              "      <td>1.0</td>\n",
              "    </tr>\n",
              "    <tr>\n",
              "      <th>...</th>\n",
              "      <td>...</td>\n",
              "      <td>...</td>\n",
              "      <td>...</td>\n",
              "    </tr>\n",
              "    <tr>\n",
              "      <th>194</th>\n",
              "      <td>5.492932</td>\n",
              "      <td>0.775996</td>\n",
              "      <td>1.0</td>\n",
              "    </tr>\n",
              "    <tr>\n",
              "      <th>29</th>\n",
              "      <td>1.334591</td>\n",
              "      <td>-0.603370</td>\n",
              "      <td>0.0</td>\n",
              "    </tr>\n",
              "    <tr>\n",
              "      <th>46</th>\n",
              "      <td>-2.303068</td>\n",
              "      <td>0.305428</td>\n",
              "      <td>0.0</td>\n",
              "    </tr>\n",
              "    <tr>\n",
              "      <th>173</th>\n",
              "      <td>-2.571513</td>\n",
              "      <td>3.676862</td>\n",
              "      <td>1.0</td>\n",
              "    </tr>\n",
              "    <tr>\n",
              "      <th>19</th>\n",
              "      <td>-0.735919</td>\n",
              "      <td>-0.615830</td>\n",
              "      <td>0.0</td>\n",
              "    </tr>\n",
              "  </tbody>\n",
              "</table>\n",
              "<p>200 rows × 3 columns</p>\n",
              "</div>"
            ],
            "text/plain": [
              "            X         Y  classe\n",
              "94   4.700798  0.664090     0.0\n",
              "26   0.675282 -1.126192     0.0\n",
              "32   1.589626  0.291664     0.0\n",
              "74  -2.712924  2.570605     0.0\n",
              "107  0.179969  1.139410     1.0\n",
              "..        ...       ...     ...\n",
              "194  5.492932  0.775996     1.0\n",
              "29   1.334591 -0.603370     0.0\n",
              "46  -2.303068  0.305428     0.0\n",
              "173 -2.571513  3.676862     1.0\n",
              "19  -0.735919 -0.615830     0.0\n",
              "\n",
              "[200 rows x 3 columns]"
            ]
          },
          "metadata": {
            "tags": []
          },
          "execution_count": 220
        },
        {
          "output_type": "display_data",
          "data": {
            "image/png": "[encoded data removed]",
            "text/plain": [
              "<Figure size 432x288 with 1 Axes>"
            ]
          },
          "metadata": {
            "tags": []
          }
        }
      ]
    },
    {
      "cell_type": "markdown",
      "metadata": {
        "id": "RSeZVZCCaSew",
        "colab_type": "text"
      },
      "source": [
        " **Buiding model**"
      ]
    },
    {
      "cell_type": "code",
      "metadata": {
        "id": "lm7TWdwGh9T4",
        "colab_type": "code",
        "colab": {
          "base_uri": "https://localhost:8080/",
          "height": 233
        },
        "outputId": "895fd1ce-b738-4af6-d9ec-7822c3cc1d4c"
      },
      "source": [
        "model = Sequential()\n",
        "model.add(Dense(30,input_shape=(2,),activation='relu')) #inputs in x,y coordinates\n",
        "#model.add(Dropout(0.2))\n",
        "model.add(Dense(1,activation='relu')) #output class\n",
        "model.summary()"
      ],
      "execution_count": null,
      "outputs": [
        {
          "output_type": "stream",
          "text": [
            "Model: \"sequential_17\"\n",
            "_________________________________________________________________\n",
            "Layer (type)                 Output Shape              Param #   \n",
            "=================================================================\n",
            "dense_41 (Dense)             (None, 30)                90        \n",
            "_________________________________________________________________\n",
            "dense_42 (Dense)             (None, 1)                 31        \n",
            "=================================================================\n",
            "Total params: 121\n",
            "Trainable params: 121\n",
            "Non-trainable params: 0\n",
            "_________________________________________________________________\n"
          ],
          "name": "stdout"
        }
      ]
    },
    {
      "cell_type": "code",
      "metadata": {
        "id": "rBJih9Rhqt5N",
        "colab_type": "code",
        "colab": {
          "base_uri": "https://localhost:8080/",
          "height": 1000
        },
        "outputId": "87d778a9-7d0e-4b66-a840-69ea8398180a"
      },
      "source": [
        "model.compile( optimizer= 'adam', loss = 'binary_crossentropy' ,metrics=['accuracy'])\n",
        "\n",
        "print(\"Training started..., this can take a while:\")\n",
        "\n",
        "# Fit your model on your data for 20 epochs\n",
        "\n",
        "model.fit(x_train,y_train, epochs = 100);\n",
        "\n",
        "# Evaluate your model \n",
        "print(\"Final lost value:\",model.evaluate(x_test, y_test))"
      ],
      "execution_count": null,
      "outputs": [
        {
          "output_type": "stream",
          "text": [
            "Training started..., this can take a while:\n",
            "Epoch 1/100\n",
            "170/170 [==============================] - 0s 458us/step - loss: 3.4190 - accuracy: 0.4824\n",
            "Epoch 2/100\n",
            "170/170 [==============================] - 0s 53us/step - loss: 2.8315 - accuracy: 0.4824\n",
            "Epoch 3/100\n",
            "170/170 [==============================] - 0s 57us/step - loss: 2.2255 - accuracy: 0.4824\n",
            "Epoch 4/100\n",
            "170/170 [==============================] - 0s 52us/step - loss: 1.8190 - accuracy: 0.5059\n",
            "Epoch 5/100\n",
            "170/170 [==============================] - 0s 55us/step - loss: 1.6712 - accuracy: 0.5118\n",
            "Epoch 6/100\n",
            "170/170 [==============================] - 0s 52us/step - loss: 1.4967 - accuracy: 0.5118\n",
            "Epoch 7/100\n",
            "170/170 [==============================] - 0s 61us/step - loss: 1.4002 - accuracy: 0.5000\n",
            "Epoch 8/100\n",
            "170/170 [==============================] - 0s 58us/step - loss: 1.1653 - accuracy: 0.5176\n",
            "Epoch 9/100\n",
            "170/170 [==============================] - 0s 52us/step - loss: 1.0029 - accuracy: 0.5471\n",
            "Epoch 10/100\n",
            "170/170 [==============================] - 0s 58us/step - loss: 0.7606 - accuracy: 0.5471\n",
            "Epoch 11/100\n",
            "170/170 [==============================] - 0s 56us/step - loss: 0.7411 - accuracy: 0.5471\n",
            "Epoch 12/100\n",
            "170/170 [==============================] - 0s 56us/step - loss: 0.7277 - accuracy: 0.5529\n",
            "Epoch 13/100\n",
            "170/170 [==============================] - 0s 53us/step - loss: 0.7248 - accuracy: 0.5471\n",
            "Epoch 14/100\n",
            "170/170 [==============================] - 0s 59us/step - loss: 0.7215 - accuracy: 0.5529\n",
            "Epoch 15/100\n",
            "170/170 [==============================] - 0s 59us/step - loss: 0.7151 - accuracy: 0.5412\n",
            "Epoch 16/100\n",
            "170/170 [==============================] - 0s 58us/step - loss: 0.7117 - accuracy: 0.5353\n",
            "Epoch 17/100\n",
            "170/170 [==============================] - 0s 63us/step - loss: 0.7068 - accuracy: 0.5235\n",
            "Epoch 18/100\n",
            "170/170 [==============================] - 0s 60us/step - loss: 0.7044 - accuracy: 0.5294\n",
            "Epoch 19/100\n",
            "170/170 [==============================] - 0s 61us/step - loss: 0.7020 - accuracy: 0.5235\n",
            "Epoch 20/100\n",
            "170/170 [==============================] - 0s 61us/step - loss: 0.7008 - accuracy: 0.5235\n",
            "Epoch 21/100\n",
            "170/170 [==============================] - 0s 59us/step - loss: 0.6986 - accuracy: 0.5294\n",
            "Epoch 22/100\n",
            "170/170 [==============================] - 0s 59us/step - loss: 0.6977 - accuracy: 0.5294\n",
            "Epoch 23/100\n",
            "170/170 [==============================] - 0s 58us/step - loss: 0.6962 - accuracy: 0.5412\n",
            "Epoch 24/100\n",
            "170/170 [==============================] - 0s 55us/step - loss: 0.6957 - accuracy: 0.5412\n",
            "Epoch 25/100\n",
            "170/170 [==============================] - 0s 53us/step - loss: 0.6939 - accuracy: 0.5471\n",
            "Epoch 26/100\n",
            "170/170 [==============================] - 0s 57us/step - loss: 0.6938 - accuracy: 0.5529\n",
            "Epoch 27/100\n",
            "170/170 [==============================] - 0s 62us/step - loss: 0.6930 - accuracy: 0.5588\n",
            "Epoch 28/100\n",
            "170/170 [==============================] - 0s 53us/step - loss: 0.6925 - accuracy: 0.5529\n",
            "Epoch 29/100\n",
            "170/170 [==============================] - 0s 53us/step - loss: 0.6911 - accuracy: 0.5529\n",
            "Epoch 30/100\n",
            "170/170 [==============================] - 0s 55us/step - loss: 0.6906 - accuracy: 0.5588\n",
            "Epoch 31/100\n",
            "170/170 [==============================] - 0s 55us/step - loss: 0.6902 - accuracy: 0.5529\n",
            "Epoch 32/100\n",
            "170/170 [==============================] - 0s 58us/step - loss: 0.6896 - accuracy: 0.5412\n",
            "Epoch 33/100\n",
            "170/170 [==============================] - 0s 55us/step - loss: 0.6884 - accuracy: 0.5471\n",
            "Epoch 34/100\n",
            "170/170 [==============================] - 0s 54us/step - loss: 0.6881 - accuracy: 0.5471\n",
            "Epoch 35/100\n",
            "170/170 [==============================] - 0s 56us/step - loss: 0.6875 - accuracy: 0.5529\n",
            "Epoch 36/100\n",
            "170/170 [==============================] - 0s 54us/step - loss: 0.6867 - accuracy: 0.5588\n",
            "Epoch 37/100\n",
            "170/170 [==============================] - 0s 50us/step - loss: 0.6869 - accuracy: 0.5588\n",
            "Epoch 38/100\n",
            "170/170 [==============================] - 0s 77us/step - loss: 0.6860 - accuracy: 0.5588\n",
            "Epoch 39/100\n",
            "170/170 [==============================] - 0s 67us/step - loss: 0.6859 - accuracy: 0.5529\n",
            "Epoch 40/100\n",
            "170/170 [==============================] - 0s 55us/step - loss: 0.6858 - accuracy: 0.5588\n",
            "Epoch 41/100\n",
            "170/170 [==============================] - 0s 56us/step - loss: 0.6847 - accuracy: 0.5647\n",
            "Epoch 42/100\n",
            "170/170 [==============================] - 0s 56us/step - loss: 0.6843 - accuracy: 0.5529\n",
            "Epoch 43/100\n",
            "170/170 [==============================] - 0s 53us/step - loss: 0.6835 - accuracy: 0.5588\n",
            "Epoch 44/100\n",
            "170/170 [==============================] - 0s 56us/step - loss: 0.6838 - accuracy: 0.5529\n",
            "Epoch 45/100\n",
            "170/170 [==============================] - 0s 52us/step - loss: 0.6834 - accuracy: 0.5471\n",
            "Epoch 46/100\n",
            "170/170 [==============================] - 0s 52us/step - loss: 0.6820 - accuracy: 0.5412\n",
            "Epoch 47/100\n",
            "170/170 [==============================] - 0s 57us/step - loss: 0.6816 - accuracy: 0.5353\n",
            "Epoch 48/100\n",
            "170/170 [==============================] - 0s 52us/step - loss: 0.6815 - accuracy: 0.5647\n",
            "Epoch 49/100\n",
            "170/170 [==============================] - 0s 51us/step - loss: 0.6817 - accuracy: 0.5588\n",
            "Epoch 50/100\n",
            "170/170 [==============================] - 0s 56us/step - loss: 0.6804 - accuracy: 0.5588\n",
            "Epoch 51/100\n",
            "170/170 [==============================] - 0s 58us/step - loss: 0.6801 - accuracy: 0.5647\n",
            "Epoch 52/100\n",
            "170/170 [==============================] - 0s 57us/step - loss: 0.6798 - accuracy: 0.5706\n",
            "Epoch 53/100\n",
            "170/170 [==============================] - 0s 58us/step - loss: 0.6789 - accuracy: 0.5529\n",
            "Epoch 54/100\n",
            "170/170 [==============================] - 0s 59us/step - loss: 0.6788 - accuracy: 0.5471\n",
            "Epoch 55/100\n",
            "170/170 [==============================] - 0s 60us/step - loss: 0.6786 - accuracy: 0.5529\n",
            "Epoch 56/100\n",
            "170/170 [==============================] - 0s 53us/step - loss: 0.6777 - accuracy: 0.5588\n",
            "Epoch 57/100\n",
            "170/170 [==============================] - 0s 55us/step - loss: 0.6776 - accuracy: 0.5529\n",
            "Epoch 58/100\n",
            "170/170 [==============================] - 0s 61us/step - loss: 0.6775 - accuracy: 0.5529\n",
            "Epoch 59/100\n",
            "170/170 [==============================] - 0s 61us/step - loss: 0.6764 - accuracy: 0.5588\n",
            "Epoch 60/100\n",
            "170/170 [==============================] - 0s 55us/step - loss: 0.6770 - accuracy: 0.5647\n",
            "Epoch 61/100\n",
            "170/170 [==============================] - 0s 53us/step - loss: 0.6771 - accuracy: 0.5647\n",
            "Epoch 62/100\n",
            "170/170 [==============================] - 0s 54us/step - loss: 0.6764 - accuracy: 0.5647\n",
            "Epoch 63/100\n",
            "170/170 [==============================] - 0s 54us/step - loss: 0.6760 - accuracy: 0.5647\n",
            "Epoch 64/100\n",
            "170/170 [==============================] - 0s 57us/step - loss: 0.6755 - accuracy: 0.5588\n",
            "Epoch 65/100\n",
            "170/170 [==============================] - 0s 53us/step - loss: 0.6756 - accuracy: 0.5471\n",
            "Epoch 66/100\n",
            "170/170 [==============================] - 0s 53us/step - loss: 0.6753 - accuracy: 0.5588\n",
            "Epoch 67/100\n",
            "170/170 [==============================] - 0s 53us/step - loss: 0.6757 - accuracy: 0.5529\n",
            "Epoch 68/100\n",
            "170/170 [==============================] - 0s 54us/step - loss: 0.6752 - accuracy: 0.5529\n",
            "Epoch 69/100\n",
            "170/170 [==============================] - 0s 60us/step - loss: 0.6745 - accuracy: 0.5588\n",
            "Epoch 70/100\n",
            "170/170 [==============================] - 0s 89us/step - loss: 0.6750 - accuracy: 0.5471\n",
            "Epoch 71/100\n",
            "170/170 [==============================] - 0s 66us/step - loss: 0.6739 - accuracy: 0.5471\n",
            "Epoch 72/100\n",
            "170/170 [==============================] - 0s 68us/step - loss: 0.6740 - accuracy: 0.5588\n",
            "Epoch 73/100\n",
            "170/170 [==============================] - 0s 70us/step - loss: 0.6732 - accuracy: 0.5588\n",
            "Epoch 74/100\n",
            "170/170 [==============================] - 0s 61us/step - loss: 0.6733 - accuracy: 0.5647\n",
            "Epoch 75/100\n",
            "170/170 [==============================] - 0s 56us/step - loss: 0.6729 - accuracy: 0.5706\n",
            "Epoch 76/100\n",
            "170/170 [==============================] - 0s 63us/step - loss: 0.6731 - accuracy: 0.5588\n",
            "Epoch 77/100\n",
            "170/170 [==============================] - 0s 53us/step - loss: 0.6728 - accuracy: 0.5529\n",
            "Epoch 78/100\n",
            "170/170 [==============================] - 0s 50us/step - loss: 0.6736 - accuracy: 0.5471\n",
            "Epoch 79/100\n",
            "170/170 [==============================] - 0s 52us/step - loss: 0.6725 - accuracy: 0.5529\n",
            "Epoch 80/100\n",
            "170/170 [==============================] - 0s 57us/step - loss: 0.6718 - accuracy: 0.5588\n",
            "Epoch 81/100\n",
            "170/170 [==============================] - 0s 59us/step - loss: 0.6737 - accuracy: 0.5588\n",
            "Epoch 82/100\n",
            "170/170 [==============================] - 0s 63us/step - loss: 0.6725 - accuracy: 0.5706\n",
            "Epoch 83/100\n",
            "170/170 [==============================] - 0s 58us/step - loss: 0.6720 - accuracy: 0.5647\n",
            "Epoch 84/100\n",
            "170/170 [==============================] - 0s 67us/step - loss: 0.6720 - accuracy: 0.5765\n",
            "Epoch 85/100\n",
            "170/170 [==============================] - 0s 57us/step - loss: 0.6717 - accuracy: 0.5765\n",
            "Epoch 86/100\n",
            "170/170 [==============================] - 0s 57us/step - loss: 0.6715 - accuracy: 0.5647\n",
            "Epoch 87/100\n",
            "170/170 [==============================] - 0s 55us/step - loss: 0.6709 - accuracy: 0.5765\n",
            "Epoch 88/100\n",
            "170/170 [==============================] - 0s 53us/step - loss: 0.6704 - accuracy: 0.5647\n",
            "Epoch 89/100\n",
            "170/170 [==============================] - 0s 58us/step - loss: 0.6709 - accuracy: 0.5588\n",
            "Epoch 90/100\n",
            "170/170 [==============================] - 0s 60us/step - loss: 0.6711 - accuracy: 0.5588\n",
            "Epoch 91/100\n",
            "170/170 [==============================] - 0s 67us/step - loss: 0.6710 - accuracy: 0.5471\n",
            "Epoch 92/100\n",
            "170/170 [==============================] - 0s 65us/step - loss: 0.6705 - accuracy: 0.5529\n",
            "Epoch 93/100\n",
            "170/170 [==============================] - 0s 60us/step - loss: 0.6708 - accuracy: 0.5412\n",
            "Epoch 94/100\n",
            "170/170 [==============================] - 0s 69us/step - loss: 0.6706 - accuracy: 0.5529\n",
            "Epoch 95/100\n",
            "170/170 [==============================] - 0s 57us/step - loss: 0.6699 - accuracy: 0.5647\n",
            "Epoch 96/100\n",
            "170/170 [==============================] - 0s 53us/step - loss: 0.6710 - accuracy: 0.5353\n",
            "Epoch 97/100\n",
            "170/170 [==============================] - 0s 58us/step - loss: 0.6705 - accuracy: 0.5471\n",
            "Epoch 98/100\n",
            "170/170 [==============================] - 0s 54us/step - loss: 0.6693 - accuracy: 0.5529\n",
            "Epoch 99/100\n",
            "170/170 [==============================] - 0s 55us/step - loss: 0.6689 - accuracy: 0.5588\n",
            "Epoch 100/100\n",
            "170/170 [==============================] - 0s 60us/step - loss: 0.6693 - accuracy: 0.5588\n",
            "30/30 [==============================] - 0s 500us/step\n",
            "Final lost value: [0.5928522348403931, 0.7333333492279053]\n"
          ],
          "name": "stdout"
        }
      ]
    },
    {
      "cell_type": "code",
      "metadata": {
        "id": "ar-7rtyD5Bs-",
        "colab_type": "code",
        "colab": {
          "base_uri": "https://localhost:8080/",
          "height": 53
        },
        "outputId": "0aa52084-fb63-4690-a029-182a04ca7f1c"
      },
      "source": [
        "# Evaluate your model \n",
        "print(\"Final lost value:\",model.evaluate(x_test, y_test))"
      ],
      "execution_count": null,
      "outputs": [
        {
          "output_type": "stream",
          "text": [
            "\r30/30 [==============================] - 0s 32us/step\n",
            "Final lost value: [0.5928522348403931, 0.7333333492279053]\n"
          ],
          "name": "stdout"
        }
      ]
    },
    {
      "cell_type": "markdown",
      "metadata": {
        "id": "VSeS99K-rbbe",
        "colab_type": "text"
      },
      "source": [
        "**Second Model**"
      ]
    },
    {
      "cell_type": "code",
      "metadata": {
        "id": "vKcxP7QwwgTK",
        "colab_type": "code",
        "colab": {
          "base_uri": "https://localhost:8080/",
          "height": 269
        },
        "outputId": "fe351999-13e8-414e-fe59-cff781e3598a"
      },
      "source": [
        "model2 = Sequential()\n",
        "model2.add(Dense(30,input_shape=(2,),activation='relu')) #inputs in x,y coordinates\n",
        "model2.add((Dense(20,activation='relu')))\n",
        "#model2.add((Dense(20,activation='relu')))\n",
        "#model2.add(Dropout(0.2))\n",
        "model2.add(Dense(1,activation='sigmoid')  ) #output class\n",
        "model2.summary()"
      ],
      "execution_count": null,
      "outputs": [
        {
          "output_type": "stream",
          "text": [
            "Model: \"sequential_18\"\n",
            "_________________________________________________________________\n",
            "Layer (type)                 Output Shape              Param #   \n",
            "=================================================================\n",
            "dense_43 (Dense)             (None, 30)                90        \n",
            "_________________________________________________________________\n",
            "dense_44 (Dense)             (None, 20)                620       \n",
            "_________________________________________________________________\n",
            "dense_45 (Dense)             (None, 1)                 21        \n",
            "=================================================================\n",
            "Total params: 731\n",
            "Trainable params: 731\n",
            "Non-trainable params: 0\n",
            "_________________________________________________________________\n"
          ],
          "name": "stdout"
        }
      ]
    },
    {
      "cell_type": "code",
      "metadata": {
        "id": "CUryPzpVrfUJ",
        "colab_type": "code",
        "colab": {
          "base_uri": "https://localhost:8080/",
          "height": 1000
        },
        "outputId": "3ed8bde3-cdc1-4d8c-babc-fcbd30c33387"
      },
      "source": [
        "model2.compile( optimizer= 'adam', loss = 'binary_crossentropy',metrics=['accuracy'])\n",
        "\n",
        "print(\"Training started..., this can take a while:\")\n",
        "\n",
        "# Fit your model on your data for 20 epochs\n",
        "#x_train,y_train\n",
        "model2.fit(x_train,y_train, epochs = 100);\n"
      ],
      "execution_count": null,
      "outputs": [
        {
          "output_type": "stream",
          "text": [
            "Training started..., this can take a while:\n",
            "Epoch 1/100\n",
            "170/170 [==============================] - 0s 520us/step - loss: 0.7552 - accuracy: 0.5176\n",
            "Epoch 2/100\n",
            "170/170 [==============================] - 0s 53us/step - loss: 0.7277 - accuracy: 0.5412\n",
            "Epoch 3/100\n",
            "170/170 [==============================] - 0s 51us/step - loss: 0.7074 - accuracy: 0.5412\n",
            "Epoch 4/100\n",
            "170/170 [==============================] - 0s 52us/step - loss: 0.6945 - accuracy: 0.5471\n",
            "Epoch 5/100\n",
            "170/170 [==============================] - 0s 59us/step - loss: 0.6892 - accuracy: 0.5529\n",
            "Epoch 6/100\n",
            "170/170 [==============================] - 0s 53us/step - loss: 0.6867 - accuracy: 0.5706\n",
            "Epoch 7/100\n",
            "170/170 [==============================] - 0s 68us/step - loss: 0.6855 - accuracy: 0.6176\n",
            "Epoch 8/100\n",
            "170/170 [==============================] - 0s 62us/step - loss: 0.6841 - accuracy: 0.5824\n",
            "Epoch 9/100\n",
            "170/170 [==============================] - 0s 56us/step - loss: 0.6833 - accuracy: 0.5765\n",
            "Epoch 10/100\n",
            "170/170 [==============================] - 0s 56us/step - loss: 0.6833 - accuracy: 0.5941\n",
            "Epoch 11/100\n",
            "170/170 [==============================] - 0s 55us/step - loss: 0.6826 - accuracy: 0.6059\n",
            "Epoch 12/100\n",
            "170/170 [==============================] - 0s 63us/step - loss: 0.6819 - accuracy: 0.6059\n",
            "Epoch 13/100\n",
            "170/170 [==============================] - 0s 55us/step - loss: 0.6812 - accuracy: 0.5765\n",
            "Epoch 14/100\n",
            "170/170 [==============================] - 0s 54us/step - loss: 0.6807 - accuracy: 0.5706\n",
            "Epoch 15/100\n",
            "170/170 [==============================] - 0s 66us/step - loss: 0.6800 - accuracy: 0.5706\n",
            "Epoch 16/100\n",
            "170/170 [==============================] - 0s 55us/step - loss: 0.6792 - accuracy: 0.5588\n",
            "Epoch 17/100\n",
            "170/170 [==============================] - 0s 62us/step - loss: 0.6791 - accuracy: 0.5706\n",
            "Epoch 18/100\n",
            "170/170 [==============================] - 0s 64us/step - loss: 0.6794 - accuracy: 0.5647\n",
            "Epoch 19/100\n",
            "170/170 [==============================] - 0s 63us/step - loss: 0.6780 - accuracy: 0.5588\n",
            "Epoch 20/100\n",
            "170/170 [==============================] - 0s 80us/step - loss: 0.6776 - accuracy: 0.5412\n",
            "Epoch 21/100\n",
            "170/170 [==============================] - 0s 80us/step - loss: 0.6773 - accuracy: 0.5294\n",
            "Epoch 22/100\n",
            "170/170 [==============================] - 0s 68us/step - loss: 0.6771 - accuracy: 0.5471\n",
            "Epoch 23/100\n",
            "170/170 [==============================] - 0s 55us/step - loss: 0.6770 - accuracy: 0.5588\n",
            "Epoch 24/100\n",
            "170/170 [==============================] - 0s 62us/step - loss: 0.6768 - accuracy: 0.5647\n",
            "Epoch 25/100\n",
            "170/170 [==============================] - 0s 65us/step - loss: 0.6764 - accuracy: 0.5529\n",
            "Epoch 26/100\n",
            "170/170 [==============================] - 0s 57us/step - loss: 0.6760 - accuracy: 0.5471\n",
            "Epoch 27/100\n",
            "170/170 [==============================] - 0s 62us/step - loss: 0.6757 - accuracy: 0.5588\n",
            "Epoch 28/100\n",
            "170/170 [==============================] - 0s 53us/step - loss: 0.6755 - accuracy: 0.5706\n",
            "Epoch 29/100\n",
            "170/170 [==============================] - 0s 54us/step - loss: 0.6756 - accuracy: 0.5706\n",
            "Epoch 30/100\n",
            "170/170 [==============================] - 0s 58us/step - loss: 0.6755 - accuracy: 0.5765\n",
            "Epoch 31/100\n",
            "170/170 [==============================] - 0s 62us/step - loss: 0.6750 - accuracy: 0.5824\n",
            "Epoch 32/100\n",
            "170/170 [==============================] - 0s 61us/step - loss: 0.6742 - accuracy: 0.5588\n",
            "Epoch 33/100\n",
            "170/170 [==============================] - 0s 80us/step - loss: 0.6743 - accuracy: 0.5353\n",
            "Epoch 34/100\n",
            "170/170 [==============================] - 0s 59us/step - loss: 0.6744 - accuracy: 0.5235\n",
            "Epoch 35/100\n",
            "170/170 [==============================] - 0s 62us/step - loss: 0.6734 - accuracy: 0.5235\n",
            "Epoch 36/100\n",
            "170/170 [==============================] - 0s 54us/step - loss: 0.6734 - accuracy: 0.5353\n",
            "Epoch 37/100\n",
            "170/170 [==============================] - 0s 59us/step - loss: 0.6724 - accuracy: 0.5647\n",
            "Epoch 38/100\n",
            "170/170 [==============================] - 0s 58us/step - loss: 0.6729 - accuracy: 0.5647\n",
            "Epoch 39/100\n",
            "170/170 [==============================] - 0s 54us/step - loss: 0.6727 - accuracy: 0.5471\n",
            "Epoch 40/100\n",
            "170/170 [==============================] - 0s 62us/step - loss: 0.6736 - accuracy: 0.5706\n",
            "Epoch 41/100\n",
            "170/170 [==============================] - 0s 63us/step - loss: 0.6723 - accuracy: 0.5882\n",
            "Epoch 42/100\n",
            "170/170 [==============================] - 0s 57us/step - loss: 0.6715 - accuracy: 0.5529\n",
            "Epoch 43/100\n",
            "170/170 [==============================] - 0s 55us/step - loss: 0.6710 - accuracy: 0.5529\n",
            "Epoch 44/100\n",
            "170/170 [==============================] - 0s 63us/step - loss: 0.6704 - accuracy: 0.5588\n",
            "Epoch 45/100\n",
            "170/170 [==============================] - 0s 55us/step - loss: 0.6704 - accuracy: 0.5765\n",
            "Epoch 46/100\n",
            "170/170 [==============================] - 0s 57us/step - loss: 0.6702 - accuracy: 0.5765\n",
            "Epoch 47/100\n",
            "170/170 [==============================] - 0s 55us/step - loss: 0.6705 - accuracy: 0.5588\n",
            "Epoch 48/100\n",
            "170/170 [==============================] - 0s 54us/step - loss: 0.6696 - accuracy: 0.5529\n",
            "Epoch 49/100\n",
            "170/170 [==============================] - 0s 56us/step - loss: 0.6687 - accuracy: 0.5588\n",
            "Epoch 50/100\n",
            "170/170 [==============================] - 0s 55us/step - loss: 0.6697 - accuracy: 0.5353\n",
            "Epoch 51/100\n",
            "170/170 [==============================] - 0s 60us/step - loss: 0.6691 - accuracy: 0.5176\n",
            "Epoch 52/100\n",
            "170/170 [==============================] - 0s 59us/step - loss: 0.6693 - accuracy: 0.5000\n",
            "Epoch 53/100\n",
            "170/170 [==============================] - 0s 60us/step - loss: 0.6686 - accuracy: 0.5235\n",
            "Epoch 54/100\n",
            "170/170 [==============================] - 0s 56us/step - loss: 0.6689 - accuracy: 0.5059\n",
            "Epoch 55/100\n",
            "170/170 [==============================] - 0s 56us/step - loss: 0.6686 - accuracy: 0.5235\n",
            "Epoch 56/100\n",
            "170/170 [==============================] - 0s 58us/step - loss: 0.6683 - accuracy: 0.5294\n",
            "Epoch 57/100\n",
            "170/170 [==============================] - 0s 63us/step - loss: 0.6679 - accuracy: 0.5235\n",
            "Epoch 58/100\n",
            "170/170 [==============================] - 0s 58us/step - loss: 0.6673 - accuracy: 0.5529\n",
            "Epoch 59/100\n",
            "170/170 [==============================] - 0s 60us/step - loss: 0.6672 - accuracy: 0.5529\n",
            "Epoch 60/100\n",
            "170/170 [==============================] - 0s 63us/step - loss: 0.6677 - accuracy: 0.5412\n",
            "Epoch 61/100\n",
            "170/170 [==============================] - 0s 65us/step - loss: 0.6664 - accuracy: 0.5353\n",
            "Epoch 62/100\n",
            "170/170 [==============================] - 0s 55us/step - loss: 0.6666 - accuracy: 0.5353\n",
            "Epoch 63/100\n",
            "170/170 [==============================] - 0s 53us/step - loss: 0.6657 - accuracy: 0.5353\n",
            "Epoch 64/100\n",
            "170/170 [==============================] - 0s 59us/step - loss: 0.6673 - accuracy: 0.5471\n",
            "Epoch 65/100\n",
            "170/170 [==============================] - 0s 53us/step - loss: 0.6665 - accuracy: 0.5588\n",
            "Epoch 66/100\n",
            "170/170 [==============================] - 0s 62us/step - loss: 0.6658 - accuracy: 0.5471\n",
            "Epoch 67/100\n",
            "170/170 [==============================] - 0s 70us/step - loss: 0.6660 - accuracy: 0.5353\n",
            "Epoch 68/100\n",
            "170/170 [==============================] - 0s 64us/step - loss: 0.6649 - accuracy: 0.5412\n",
            "Epoch 69/100\n",
            "170/170 [==============================] - 0s 61us/step - loss: 0.6659 - accuracy: 0.5588\n",
            "Epoch 70/100\n",
            "170/170 [==============================] - 0s 59us/step - loss: 0.6653 - accuracy: 0.5588\n",
            "Epoch 71/100\n",
            "170/170 [==============================] - 0s 62us/step - loss: 0.6639 - accuracy: 0.5471\n",
            "Epoch 72/100\n",
            "170/170 [==============================] - 0s 65us/step - loss: 0.6641 - accuracy: 0.5353\n",
            "Epoch 73/100\n",
            "170/170 [==============================] - 0s 69us/step - loss: 0.6648 - accuracy: 0.5353\n",
            "Epoch 74/100\n",
            "170/170 [==============================] - 0s 58us/step - loss: 0.6643 - accuracy: 0.5353\n",
            "Epoch 75/100\n",
            "170/170 [==============================] - 0s 57us/step - loss: 0.6633 - accuracy: 0.5294\n",
            "Epoch 76/100\n",
            "170/170 [==============================] - 0s 56us/step - loss: 0.6629 - accuracy: 0.5294\n",
            "Epoch 77/100\n",
            "170/170 [==============================] - 0s 52us/step - loss: 0.6626 - accuracy: 0.5412\n",
            "Epoch 78/100\n",
            "170/170 [==============================] - 0s 62us/step - loss: 0.6638 - accuracy: 0.5647\n",
            "Epoch 79/100\n",
            "170/170 [==============================] - 0s 61us/step - loss: 0.6645 - accuracy: 0.5882\n",
            "Epoch 80/100\n",
            "170/170 [==============================] - 0s 77us/step - loss: 0.6633 - accuracy: 0.5882\n",
            "Epoch 81/100\n",
            "170/170 [==============================] - 0s 56us/step - loss: 0.6631 - accuracy: 0.5529\n",
            "Epoch 82/100\n",
            "170/170 [==============================] - 0s 56us/step - loss: 0.6624 - accuracy: 0.5471\n",
            "Epoch 83/100\n",
            "170/170 [==============================] - 0s 55us/step - loss: 0.6621 - accuracy: 0.5353\n",
            "Epoch 84/100\n",
            "170/170 [==============================] - 0s 58us/step - loss: 0.6624 - accuracy: 0.5294\n",
            "Epoch 85/100\n",
            "170/170 [==============================] - 0s 61us/step - loss: 0.6619 - accuracy: 0.5353\n",
            "Epoch 86/100\n",
            "170/170 [==============================] - 0s 63us/step - loss: 0.6619 - accuracy: 0.5412\n",
            "Epoch 87/100\n",
            "170/170 [==============================] - 0s 60us/step - loss: 0.6621 - accuracy: 0.5353\n",
            "Epoch 88/100\n",
            "170/170 [==============================] - 0s 68us/step - loss: 0.6614 - accuracy: 0.5412\n",
            "Epoch 89/100\n",
            "170/170 [==============================] - 0s 64us/step - loss: 0.6619 - accuracy: 0.5412\n",
            "Epoch 90/100\n",
            "170/170 [==============================] - 0s 56us/step - loss: 0.6611 - accuracy: 0.5353\n",
            "Epoch 91/100\n",
            "170/170 [==============================] - 0s 54us/step - loss: 0.6602 - accuracy: 0.5529\n",
            "Epoch 92/100\n",
            "170/170 [==============================] - 0s 54us/step - loss: 0.6613 - accuracy: 0.5647\n",
            "Epoch 93/100\n",
            "170/170 [==============================] - 0s 54us/step - loss: 0.6609 - accuracy: 0.5647\n",
            "Epoch 94/100\n",
            "170/170 [==============================] - 0s 55us/step - loss: 0.6616 - accuracy: 0.5529\n",
            "Epoch 95/100\n",
            "170/170 [==============================] - 0s 87us/step - loss: 0.6601 - accuracy: 0.5353\n",
            "Epoch 96/100\n",
            "170/170 [==============================] - 0s 59us/step - loss: 0.6606 - accuracy: 0.5353\n",
            "Epoch 97/100\n",
            "170/170 [==============================] - 0s 61us/step - loss: 0.6598 - accuracy: 0.5412\n",
            "Epoch 98/100\n",
            "170/170 [==============================] - 0s 54us/step - loss: 0.6599 - accuracy: 0.5529\n",
            "Epoch 99/100\n",
            "170/170 [==============================] - 0s 55us/step - loss: 0.6596 - accuracy: 0.5529\n",
            "Epoch 100/100\n",
            "170/170 [==============================] - 0s 53us/step - loss: 0.6592 - accuracy: 0.5471\n"
          ],
          "name": "stdout"
        }
      ]
    },
    {
      "cell_type": "code",
      "metadata": {
        "id": "KK70dA1q45F3",
        "colab_type": "code",
        "colab": {
          "base_uri": "https://localhost:8080/",
          "height": 53
        },
        "outputId": "5c30f92a-c106-46cb-e1bf-2b0271977a13"
      },
      "source": [
        "# Evaluate your model \n",
        "print(\"Final lost value:\",model2.evaluate(x_test, y_test))"
      ],
      "execution_count": null,
      "outputs": [
        {
          "output_type": "stream",
          "text": [
            "\r30/30 [==============================] - 0s 472us/step\n",
            "Final lost value: [0.6315601468086243, 0.699999988079071]\n"
          ],
          "name": "stdout"
        }
      ]
    },
    {
      "cell_type": "markdown",
      "metadata": {
        "id": "wlA2meoVJyEA",
        "colab_type": "text"
      },
      "source": [
        "**Matrizes de confusão**"
      ]
    },
    {
      "cell_type": "code",
      "metadata": {
        "id": "htJF0lVsfnJ5",
        "colab_type": "code",
        "colab": {
          "base_uri": "https://localhost:8080/",
          "height": 554
        },
        "outputId": "18261774-5bbf-4df7-8db9-e21fd149ed86"
      },
      "source": [
        "predict = model.predict_classes(x_test)\n",
        "\n",
        "conf_mat = confusion_matrix(y_test, predict)\n",
        "plt.figure(figsize=(5, 5))\n",
        "ax = sns.heatmap(conf_mat, annot=True, fmt=\".0f\")\n",
        "print(f\"A acurácia do modelo do item a é de {accuracy_score(y_test, predict)}\")\n",
        "print(print(classification_report(y_test, predict, digits=4)))\n",
        "ax.set_title(\"Matriz de confusão modelo 1\")\n"
      ],
      "execution_count": null,
      "outputs": [
        {
          "output_type": "stream",
          "text": [
            "A acurácia do modelo do item a é de 0.7333333333333333\n",
            "              precision    recall  f1-score   support\n",
            "\n",
            "         0.0     0.7647    0.7647    0.7647        17\n",
            "         1.0     0.6923    0.6923    0.6923        13\n",
            "\n",
            "    accuracy                         0.7333        30\n",
            "   macro avg     0.7285    0.7285    0.7285        30\n",
            "weighted avg     0.7333    0.7333    0.7333        30\n",
            "\n",
            "None\n"
          ],
          "name": "stdout"
        },
        {
          "output_type": "execute_result",
          "data": {
            "text/plain": [
              "Text(0.5, 1.0, 'Matriz de confusão modelo 1')"
            ]
          },
          "metadata": {
            "tags": []
          },
          "execution_count": 227
        },
        {
          "output_type": "display_data",
          "data": {
            "image/png": "[encoded data removed]",
            "text/plain": [
              "<Figure size 360x360 with 2 Axes>"
            ]
          },
          "metadata": {
            "tags": []
          }
        }
      ]
    },
    {
      "cell_type": "code",
      "metadata": {
        "id": "6qy-tNHAGlSN",
        "colab_type": "code",
        "colab": {
          "base_uri": "https://localhost:8080/",
          "height": 360
        },
        "outputId": "81d9565a-8627-4308-e7e5-e6a2d10f4772"
      },
      "source": [
        "newdata = pd.DataFrame({'X':x_test[:,0],'Y':x_test[:,1],'classe':predict[:,0]})\n",
        "\n",
        "\n",
        "\n",
        "\n",
        "fig = plt.figure(figsize=(5,5))\n",
        "ax = fig.add_subplot(1, 1, 1)\n",
        "\n",
        "# Major ticks every 1, minor ticks every 5/100\n",
        "major_ticks = np.arange(-5, 6, 1)\n",
        "minor_ticks = np.arange(-5, 6, 1/20)\n",
        "\n",
        "ax.set_xticks(major_ticks)\n",
        "ax.set_xticks(minor_ticks, minor=True)\n",
        "ax.set_yticks(major_ticks)\n",
        "ax.set_yticks(minor_ticks, minor=True)\n",
        "\n",
        "# And a corresponding grid\n",
        "ax.grid(which='both')\n",
        "\n",
        "# Or if you want different settings for the grids:\n",
        "ax.grid(which='minor', alpha=0.2)\n",
        "ax.grid(which='major', alpha=0.5)\n",
        "sns.set_context(\"notebook\", font_scale=1, rc={\"lines.linewidth\": 0.8})\n",
        "sns.scatterplot(\"X\", \"Y\", data=newdata, hue=\"classe\", ax=ax)\n"
      ],
      "execution_count": null,
      "outputs": [
        {
          "output_type": "execute_result",
          "data": {
            "text/plain": [
              "<matplotlib.axes._subplots.AxesSubplot at 0x7f9c63ca2860>"
            ]
          },
          "metadata": {
            "tags": []
          },
          "execution_count": 228
        },
        {
          "output_type": "display_data",
          "data": {
            "image/png": "[encoded data removed]",
            "text/plain": [
              "<Figure size 360x360 with 1 Axes>"
            ]
          },
          "metadata": {
            "tags": []
          }
        }
      ]
    },
    {
      "cell_type": "code",
      "metadata": {
        "id": "mmrg-a-SJT3y",
        "colab_type": "code",
        "colab": {
          "base_uri": "https://localhost:8080/",
          "height": 554
        },
        "outputId": "f8ddf042-a299-4e5e-9221-6bce31a97610"
      },
      "source": [
        "predict = model2.predict_classes(x_test)\n",
        "#predict = np.around(predict)\n",
        "\n",
        "conf_mat = confusion_matrix(y_test, predict)\n",
        "plt.figure(figsize=(5, 5))\n",
        "ax = sns.heatmap(conf_mat, annot=True, fmt=\".0f\")\n",
        "print(f\"A acurácia do modelo do item a é de {accuracy_score(y_test, predict)}\")\n",
        "print(print(classification_report(y_test, predict, digits=4)))\n",
        "ax.set_title(\"Matriz de confusão modelo 2\")"
      ],
      "execution_count": null,
      "outputs": [
        {
          "output_type": "stream",
          "text": [
            "A acurácia do modelo do item a é de 0.7\n",
            "              precision    recall  f1-score   support\n",
            "\n",
            "         0.0     0.7500    0.7059    0.7273        17\n",
            "         1.0     0.6429    0.6923    0.6667        13\n",
            "\n",
            "    accuracy                         0.7000        30\n",
            "   macro avg     0.6964    0.6991    0.6970        30\n",
            "weighted avg     0.7036    0.7000    0.7010        30\n",
            "\n",
            "None\n"
          ],
          "name": "stdout"
        },
        {
          "output_type": "execute_result",
          "data": {
            "text/plain": [
              "Text(0.5, 1.0, 'Matriz de confusão modelo 2')"
            ]
          },
          "metadata": {
            "tags": []
          },
          "execution_count": 229
        },
        {
          "output_type": "display_data",
          "data": {
            "image/png": "[encoded data removed]",
            "text/plain": [
              "<Figure size 360x360 with 2 Axes>"
            ]
          },
          "metadata": {
            "tags": []
          }
        }
      ]
    },
    {
      "cell_type": "markdown",
      "metadata": {
        "id": "s6XV8dxeQyz7",
        "colab_type": "text"
      },
      "source": [
        "**Plot figures**"
      ]
    },
    {
      "cell_type": "code",
      "metadata": {
        "id": "bok_LJbgQzXZ",
        "colab_type": "code",
        "colab": {
          "base_uri": "https://localhost:8080/",
          "height": 360
        },
        "outputId": "e89949aa-c24c-4f94-f3a9-104bd9c93df2"
      },
      "source": [
        "x_grid = np.linspace(-5,5,num=100);\n",
        "y_grid = np.linspace(-5,5,num=100);\n",
        "\n",
        "\n",
        "#fig = plt.figure(figsize=(1.2,1.2))\n",
        "#ax = fig.add_axes([-5,-5,5,5])\n",
        "#fig,ax = plt.subplots()\n",
        "\n",
        "newdata = pd.DataFrame({'X':x_test[:,0],'Y':x_test[:,1],'classe':predict[:,0]})\n",
        "\n",
        "\n",
        "\n",
        "\n",
        "fig = plt.figure(figsize=(5,5))\n",
        "ax = fig.add_subplot(1, 1, 1)\n",
        "\n",
        "# Major ticks every 1, minor ticks every 5/100\n",
        "major_ticks = np.arange(-5, 6, 1)\n",
        "minor_ticks = np.arange(-5, 6, 1/20)\n",
        "\n",
        "ax.set_xticks(major_ticks)\n",
        "ax.set_xticks(minor_ticks, minor=True)\n",
        "ax.set_yticks(major_ticks)\n",
        "ax.set_yticks(minor_ticks, minor=True)\n",
        "\n",
        "# And a corresponding grid\n",
        "ax.grid(which='both')\n",
        "\n",
        "# Or if you want different settings for the grids:\n",
        "ax.grid(which='minor', alpha=0.2)\n",
        "ax.grid(which='major', alpha=0.5)\n",
        "sns.set_context(\"notebook\", font_scale=1, rc={\"lines.linewidth\": 0.8})\n",
        "sns.scatterplot(\"X\", \"Y\", data=newdata, hue=\"classe\", ax=ax)\n"
      ],
      "execution_count": null,
      "outputs": [
        {
          "output_type": "execute_result",
          "data": {
            "text/plain": [
              "<matplotlib.axes._subplots.AxesSubplot at 0x7f9c712d9d30>"
            ]
          },
          "metadata": {
            "tags": []
          },
          "execution_count": 230
        },
        {
          "output_type": "display_data",
          "data": {
            "image/png": "[encoded data removed]",
            "text/plain": [
              "<Figure size 360x360 with 1 Axes>"
            ]
          },
          "metadata": {
            "tags": []
          }
        }
      ]
    }
  ]
}