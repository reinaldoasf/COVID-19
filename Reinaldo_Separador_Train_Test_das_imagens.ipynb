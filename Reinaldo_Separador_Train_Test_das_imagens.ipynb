{
  "nbformat": 4,
  "nbformat_minor": 0,
  "metadata": {
    "colab": {
      "name": "Reinaldo Separador Train - Test das imagens.ipynb",
      "provenance": [],
      "include_colab_link": true
    },
    "kernelspec": {
      "name": "python3",
      "display_name": "Python 3"
    }
  },
  "cells": [
    {
      "cell_type": "markdown",
      "metadata": {
        "id": "view-in-github",
        "colab_type": "text"
      },
      "source": [
        "<a href=\"https://colab.research.google.com/github/reinaldoasf/deeplearning/blob/master/Reinaldo_Separador_Train_Test_das_imagens.ipynb\" target=\"_parent\"><img src=\"https://colab.research.google.com/assets/colab-badge.svg\" alt=\"Open In Colab\"/></a>"
      ]
    },
    {
      "cell_type": "markdown",
      "metadata": {
        "id": "xgAwXnKE450x",
        "colab_type": "text"
      },
      "source": [
        "# Separando Conjuntos de Teste e Treino\n",
        "\n",
        "Neste notebook terá o código necessário para ler as imagens do dataset de raios X do pulmão."
      ]
    },
    {
      "cell_type": "code",
      "metadata": {
        "id": "eLRFMoBx4oNb",
        "colab_type": "code",
        "colab": {}
      },
      "source": [
        "import numpy as np\n",
        "import pandas as pd\n",
        "import matplotlib.pyplot as plt\n"
      ],
      "execution_count": 1,
      "outputs": []
    },
    {
      "cell_type": "code",
      "metadata": {
        "id": "VbAW7rJ-44eO",
        "colab_type": "code",
        "colab": {
          "base_uri": "https://localhost:8080/",
          "height": 51
        },
        "outputId": "dd35360f-3e5e-4585-98bf-849cf8534bdc"
      },
      "source": [
        "from google.colab import drive\n",
        "drive.mount(\"/gdrive\")#, force_remount=True)\n",
        "%cd /gdrive/My\\ Drive/Kaggle\n",
        "\n",
        "\n",
        "CATEGORIES = [\"COVID\", \"NORMAL\",\"PNEUMONIA\"]"
      ],
      "execution_count": 2,
      "outputs": [
        {
          "output_type": "stream",
          "text": [
            "Drive already mounted at /gdrive; to attempt to forcibly remount, call drive.mount(\"/gdrive\", force_remount=True).\n",
            "/gdrive/.shortcut-targets-by-id/1YSZg0Et9SrBuc91EBiHqhCI6Q8lKQ6YD/Kaggle\n"
          ],
          "name": "stdout"
        }
      ]
    },
    {
      "cell_type": "code",
      "metadata": {
        "id": "0eV6FgUv9HZI",
        "colab_type": "code",
        "colab": {
          "base_uri": "https://localhost:8080/",
          "height": 68
        },
        "outputId": "d6c0e82f-05d2-4159-9ce4-30dc42a39370"
      },
      "source": [
        "!ls COVID-19/"
      ],
      "execution_count": 3,
      "outputs": [
        {
          "output_type": "stream",
          "text": [
            " COVID-19\t\t  NORMAL.metadata.xlsx\t'Viral Pneumonia.matadata.xlsx'\n",
            " COVID-19.metadata.xlsx   README.md.txt\n",
            " NORMAL\t\t\t 'Viral Pneumonia'\n"
          ],
          "name": "stdout"
        }
      ]
    },
    {
      "cell_type": "code",
      "metadata": {
        "id": "t5LcbesD83pH",
        "colab_type": "code",
        "colab": {
          "base_uri": "https://localhost:8080/",
          "height": 71
        },
        "outputId": "07ffed63-98b6-47a1-e727-9fe6ecc11b41"
      },
      "source": [
        "\n",
        "\n",
        "import cv2\n",
        "import os, glob\n",
        "from PIL import Image, ImageOps\n",
        "import numpy as np\n",
        "import seaborn as sns\n",
        "from imutils import paths\n",
        "import matplotlib.pyplot as plt\n",
        "import sklearn.metrics as metrics\n",
        "\n",
        "from sklearn.model_selection import train_test_split\n",
        "from sklearn.metrics import confusion_matrix, classification_report\n",
        "\n",
        "from tensorflow.keras.models import Model\n",
        "from tensorflow.keras.models import Sequential\n",
        "from tensorflow.keras.optimizers import Adam\n",
        "from tensorflow.keras.utils import to_categorical\n",
        "from tensorflow.keras.preprocessing.image import ImageDataGenerator\n",
        "from tensorflow.keras.applications import VGG16, ResNet101, Xception\n",
        "from tensorflow.keras.layers import Dense, Dropout, Activation, Flatten\n",
        "from tensorflow.keras.layers import Conv2D, MaxPooling2D\n"
      ],
      "execution_count": 4,
      "outputs": [
        {
          "output_type": "stream",
          "text": [
            "/usr/local/lib/python3.6/dist-packages/statsmodels/tools/_testing.py:19: FutureWarning: pandas.util.testing is deprecated. Use the functions in the public API at pandas.testing instead.\n",
            "  import pandas.util.testing as tm\n"
          ],
          "name": "stderr"
        }
      ]
    },
    {
      "cell_type": "code",
      "metadata": {
        "id": "_V-qlXBa84YP",
        "colab_type": "code",
        "colab": {}
      },
      "source": [
        "LR = 0.001\n",
        "EPOCHS = 20\n",
        "BATCH_SIZE = 32\n",
        "#COVID_LEN = len(glob.glob(\"COVID-19/COVID-19/*\"))\n",
        "\n",
        "INP_SIZE = (224,224,3)\n",
        "def create_data(dir_name):\n",
        "    temp_data = []\n",
        "    img_list = glob.glob(dir_name + '/*')\n",
        "    for img in img_list:\n",
        "        image = Image.open(img).resize((64, 64))#Tive que mudar o tamanho pq tava estourando a memória RAM do Colab\n",
        "        image = ImageOps.grayscale(image=image)\n",
        "        image = np.array(image)\n",
        "        temp_data.append(image)\n",
        "    return temp_data\n",
        "\n",
        "data = []\n",
        "labels = []\n",
        "\n",
        "covid_dir = 'COVID-19/COVID-19'\n",
        "normal_dir = 'COVID-19/NORMAL'\n",
        "pneumonia_dir = 'COVID-19/Viral Pneumonia'\n",
        "\n",
        "data.extend(create_data(covid_dir))\n",
        "COVID_LEN = len(data)\n",
        "data.extend(create_data(normal_dir))\n",
        "normal_len = len(data)\n",
        "data.extend(create_data(pneumonia_dir))\n",
        "\n",
        "\n",
        "\n"
      ],
      "execution_count": 5,
      "outputs": []
    },
    {
      "cell_type": "code",
      "metadata": {
        "id": "VENZe_JBXiz1",
        "colab_type": "code",
        "colab": {
          "base_uri": "https://localhost:8080/",
          "height": 187
        },
        "outputId": "88ad9581-6e85-43df-8661-a786d73df85b"
      },
      "source": [
        " data = np.array(data)/255.0\n",
        "labels = []\n",
        "for i in range(len(data)):\n",
        "  if i < COVID_LEN:\n",
        "    labels.append(0) \n",
        "  elif i < normal_len:\n",
        "    labels.append(1)\n",
        "  else:\n",
        "    labels.append(2) \n",
        "labels_array = np.array(labels)\n",
        "#lb = LabelBinarizer()\n",
        "print(labels_array.shape)\n",
        "#labels_array = lb.fit_transform(labels_array)\n",
        "labels_array = to_categorical(labels,num_classes=3)\n",
        "\n",
        "data_array = np.array(data)\n",
        "print(data_array.shape)\n",
        "print(labels_array.shape)\n",
        "print(labels_array)\n",
        "\n",
        "#data_array=data_array.reshape(data_array.shape[0],data_array.shape[1],data_array.shape[2],1)\n",
        "#print(data_array.shape)"
      ],
      "execution_count": 18,
      "outputs": [
        {
          "output_type": "stream",
          "text": [
            "(2905,)\n",
            "(2905, 64, 64)\n",
            "(2905, 3)\n",
            "[[1. 0. 0.]\n",
            " [1. 0. 0.]\n",
            " [1. 0. 0.]\n",
            " ...\n",
            " [0. 0. 1.]\n",
            " [0. 0. 1.]\n",
            " [0. 0. 1.]]\n"
          ],
          "name": "stdout"
        }
      ]
    },
    {
      "cell_type": "code",
      "metadata": {
        "id": "HLEeDCj7Xvw3",
        "colab_type": "code",
        "colab": {}
      },
      "source": [
        "x_train, x_test, y_train, y_test = train_test_split(data_array, labels_array, test_size=0.25)\n",
        "x_train_reshape = x_train\n",
        "x_test_reshape = x_test\n",
        "x_train_reshape = x_train_reshape.reshape(list(x_train_reshape.shape) + [1]) \n",
        "x_test_reshape  = x_test_reshape.reshape(list(x_test_reshape.shape) + [1]) "
      ],
      "execution_count": 7,
      "outputs": []
    },
    {
      "cell_type": "code",
      "metadata": {
        "id": "umbVbc6Io4gI",
        "colab_type": "code",
        "colab": {}
      },
      "source": [
        "import keras\n",
        "model = Sequential()\n",
        "\n",
        "\n",
        "model.add(Conv2D(64, (3, 3),input_shape=(64,64,1)))\n",
        "model.add(Activation('relu'))\n",
        "model.add(MaxPooling2D(pool_size=(2, 2)))\n",
        "\n",
        "#model.add(Conv2D(64, (3, 3)))\n",
        "#model.add(Activation('relu'))\n",
        "#model.add(MaxPooling2D(pool_size=(2, 2)))\n",
        "\n",
        "model.add(Flatten())  # this converts our 3D feature maps to 1D feature vectors\n",
        "\n",
        "model.add(Dense(64))\n",
        "\n",
        "model.add(Dense(3))\n",
        "model.add(Activation('softmax'))\n"
      ],
      "execution_count": 13,
      "outputs": []
    },
    {
      "cell_type": "code",
      "metadata": {
        "id": "mZk3NAK4JQxJ",
        "colab_type": "code",
        "colab": {
          "base_uri": "https://localhost:8080/",
          "height": 34
        },
        "outputId": "dd1cdb6a-ab1c-4e38-f1b6-45ca0c7337ba"
      },
      "source": [
        "model.compile(loss='categorical_crossentropy',\n",
        "              optimizer='adam',\n",
        "              metrics=['categorical_accuracy'])\n",
        "print(x_train_reshape.shape)"
      ],
      "execution_count": 14,
      "outputs": [
        {
          "output_type": "stream",
          "text": [
            "(2178, 64, 64, 1)\n"
          ],
          "name": "stdout"
        }
      ]
    },
    {
      "cell_type": "code",
      "metadata": {
        "id": "IYgKR_OIJZXd",
        "colab_type": "code",
        "colab": {
          "base_uri": "https://localhost:8080/",
          "height": 394
        },
        "outputId": "ea652426-851f-4062-f492-8ec2cbe9571a"
      },
      "source": [
        "\n",
        "model.fit(x_train_reshape, y_train, batch_size=32, epochs=10, validation_split=0.2)"
      ],
      "execution_count": 16,
      "outputs": [
        {
          "output_type": "stream",
          "text": [
            "Epoch 1/10\n",
            "55/55 [==============================] - 7s 123ms/step - loss: 0.0658 - categorical_accuracy: 0.9805 - val_loss: 0.1808 - val_categorical_accuracy: 0.9381\n",
            "Epoch 2/10\n",
            "55/55 [==============================] - 7s 122ms/step - loss: 0.0533 - categorical_accuracy: 0.9879 - val_loss: 0.2489 - val_categorical_accuracy: 0.9037\n",
            "Epoch 3/10\n",
            "55/55 [==============================] - 7s 122ms/step - loss: 0.0457 - categorical_accuracy: 0.9874 - val_loss: 0.1593 - val_categorical_accuracy: 0.9427\n",
            "Epoch 4/10\n",
            "55/55 [==============================] - 7s 123ms/step - loss: 0.0275 - categorical_accuracy: 0.9971 - val_loss: 0.1486 - val_categorical_accuracy: 0.9495\n",
            "Epoch 5/10\n",
            "55/55 [==============================] - 7s 124ms/step - loss: 0.0270 - categorical_accuracy: 0.9971 - val_loss: 0.1747 - val_categorical_accuracy: 0.9450\n",
            "Epoch 6/10\n",
            "55/55 [==============================] - 7s 123ms/step - loss: 0.0276 - categorical_accuracy: 0.9943 - val_loss: 0.1833 - val_categorical_accuracy: 0.9358\n",
            "Epoch 7/10\n",
            "55/55 [==============================] - 7s 123ms/step - loss: 0.0153 - categorical_accuracy: 0.9994 - val_loss: 0.1727 - val_categorical_accuracy: 0.9427\n",
            "Epoch 8/10\n",
            "55/55 [==============================] - 7s 123ms/step - loss: 0.0120 - categorical_accuracy: 0.9994 - val_loss: 0.1626 - val_categorical_accuracy: 0.9472\n",
            "Epoch 9/10\n",
            "55/55 [==============================] - 7s 122ms/step - loss: 0.0111 - categorical_accuracy: 0.9994 - val_loss: 0.1689 - val_categorical_accuracy: 0.9427\n",
            "Epoch 10/10\n",
            "55/55 [==============================] - 7s 123ms/step - loss: 0.0077 - categorical_accuracy: 1.0000 - val_loss: 0.1828 - val_categorical_accuracy: 0.9450\n"
          ],
          "name": "stdout"
        },
        {
          "output_type": "execute_result",
          "data": {
            "text/plain": [
              "<tensorflow.python.keras.callbacks.History at 0x7f60905ccc18>"
            ]
          },
          "metadata": {
            "tags": []
          },
          "execution_count": 16
        }
      ]
    },
    {
      "cell_type": "code",
      "metadata": {
        "id": "ceBl8VYaJpYV",
        "colab_type": "code",
        "colab": {
          "base_uri": "https://localhost:8080/",
          "height": 204
        },
        "outputId": "8e8a3a09-0199-44d5-dcad-21d636c82439"
      },
      "source": [
        "from sklearn.metrics import classification_report\n",
        "y_pred = np.argmax(model.predict(x_test_reshape), axis=1)\n",
        "y_pred = to_categorical(y_pred,num_classes=3)\n",
        "\n",
        "print(classification_report(y_test, y_pred, digits=3))"
      ],
      "execution_count": 41,
      "outputs": [
        {
          "output_type": "stream",
          "text": [
            "              precision    recall  f1-score   support\n",
            "\n",
            "           0      0.940     0.904     0.922        52\n",
            "           1      0.921     0.956     0.938       342\n",
            "           2      0.947     0.916     0.931       333\n",
            "\n",
            "   micro avg      0.934     0.934     0.934       727\n",
            "   macro avg      0.936     0.925     0.930       727\n",
            "weighted avg      0.934     0.934     0.934       727\n",
            " samples avg      0.934     0.934     0.934       727\n",
            "\n"
          ],
          "name": "stdout"
        }
      ]
    },
    {
      "cell_type": "code",
      "metadata": {
        "id": "XouQq5k2u5aN",
        "colab_type": "code",
        "colab": {
          "base_uri": "https://localhost:8080/",
          "height": 374
        },
        "outputId": "e0532f90-9e92-464a-e29e-307653ab7d68"
      },
      "source": [
        "from sklearn.metrics import multilabel_confusion_matrix\n",
        "conf_matrix = confusion_matrix(np.argmax(y_test,axis=1), np.argmax(y_pred,axis=1))#, labels=[\"Normal\", \"COVID-19\"])\n",
        "plt.figure(figsize=(8, 6))\n",
        "\n",
        "ax = sns.heatmap(conf_matrix, fmt=\".0f\", annot=True)\n",
        "ax.set_yticklabels([\"Normal\", \"COVID-19\",\"Pneumonias\"])\n",
        "ax.set_xticklabels([\"Normal\", \"COVID-19\",\"Pneumonias\"])\n",
        "plt.show()\n"
      ],
      "execution_count": 53,
      "outputs": [
        {
          "output_type": "display_data",
          "data": {
            "image/png": "[encoded data removed]",
            "text/plain": [
              "<Figure size 576x432 with 2 Axes>"
            ]
          },
          "metadata": {
            "tags": [],
            "needs_background": "light"
          }
        }
      ]
    }
  ]
}